{
 "cells": [
  {
   "cell_type": "markdown",
   "id": "198e0f09",
   "metadata": {},
   "source": [
    "# Análise de dados - Estatística básica\n",
    "A estatistica pode responder diversas perguntas como:\n",
    "\n",
    "    - Qual a probabilida?\n",
    "    - Se algo mudar mihas vendas podem aumentar?\n",
    "    - Quantas pessoas estarão dispostas a pagar?\n",
    "    - Como melhorar as vendas?\n",
    "    - Quanto eu devo fabricar para vender ao máximo de pessoas?\n",
    "    - Se aumentar o preço quantas pessoas estão dispostas a pagar?\n",
    "    - Qual melhor meio de marketing mais eficaz?\n",
    "    \n",
    "Estatística não pode responder:\n",
    "\n",
    "    - Porque o cliente gosta desse produto?\n",
    "           * resp: por que é vermleho\n",
    "           * Mas o preto vende mais!\n",
    "         "
   ]
  },
  {
   "cell_type": "markdown",
   "id": "aa667d43",
   "metadata": {},
   "source": [
    "# Pergunta para depois:\n",
    "Por que outliers influenciam na média mas não na mediana?"
   ]
  },
  {
   "cell_type": "markdown",
   "id": "362228fd",
   "metadata": {},
   "source": [
    "# Bibliotecas"
   ]
  },
  {
   "cell_type": "code",
   "execution_count": 5,
   "id": "f53cf4b4",
   "metadata": {},
   "outputs": [],
   "source": [
    "import numpy as np\n",
    "import pandas as pd"
   ]
  },
  {
   "cell_type": "markdown",
   "id": "98720819",
   "metadata": {},
   "source": [
    "# Aquisição de dados"
   ]
  },
  {
   "cell_type": "code",
   "execution_count": 6,
   "id": "1977b66a",
   "metadata": {},
   "outputs": [
    {
     "data": {
      "text/html": [
       "<div>\n",
       "<style scoped>\n",
       "    .dataframe tbody tr th:only-of-type {\n",
       "        vertical-align: middle;\n",
       "    }\n",
       "\n",
       "    .dataframe tbody tr th {\n",
       "        vertical-align: top;\n",
       "    }\n",
       "\n",
       "    .dataframe thead th {\n",
       "        text-align: right;\n",
       "    }\n",
       "</style>\n",
       "<table border=\"1\" class=\"dataframe\">\n",
       "  <thead>\n",
       "    <tr style=\"text-align: right;\">\n",
       "      <th></th>\n",
       "      <th>PassengerId</th>\n",
       "      <th>Survived</th>\n",
       "      <th>Pclass</th>\n",
       "      <th>Name</th>\n",
       "      <th>Sex</th>\n",
       "      <th>Age</th>\n",
       "      <th>SibSp</th>\n",
       "      <th>Parch</th>\n",
       "      <th>Ticket</th>\n",
       "      <th>Fare</th>\n",
       "      <th>Embarked</th>\n",
       "    </tr>\n",
       "  </thead>\n",
       "  <tbody>\n",
       "    <tr>\n",
       "      <th>0</th>\n",
       "      <td>1</td>\n",
       "      <td>0</td>\n",
       "      <td>3</td>\n",
       "      <td>Braund, Mr. Owen Harris</td>\n",
       "      <td>male</td>\n",
       "      <td>22.0</td>\n",
       "      <td>1</td>\n",
       "      <td>0</td>\n",
       "      <td>A/5 21171</td>\n",
       "      <td>7.2500</td>\n",
       "      <td>S</td>\n",
       "    </tr>\n",
       "    <tr>\n",
       "      <th>1</th>\n",
       "      <td>2</td>\n",
       "      <td>1</td>\n",
       "      <td>1</td>\n",
       "      <td>Cumings, Mrs. John Bradley (Florence Briggs Th...</td>\n",
       "      <td>female</td>\n",
       "      <td>38.0</td>\n",
       "      <td>1</td>\n",
       "      <td>0</td>\n",
       "      <td>PC 17599</td>\n",
       "      <td>71.2833</td>\n",
       "      <td>C</td>\n",
       "    </tr>\n",
       "    <tr>\n",
       "      <th>2</th>\n",
       "      <td>3</td>\n",
       "      <td>1</td>\n",
       "      <td>3</td>\n",
       "      <td>Heikkinen, Miss. Laina</td>\n",
       "      <td>female</td>\n",
       "      <td>26.0</td>\n",
       "      <td>0</td>\n",
       "      <td>0</td>\n",
       "      <td>STON/O2. 3101282</td>\n",
       "      <td>7.9250</td>\n",
       "      <td>S</td>\n",
       "    </tr>\n",
       "    <tr>\n",
       "      <th>3</th>\n",
       "      <td>4</td>\n",
       "      <td>1</td>\n",
       "      <td>1</td>\n",
       "      <td>Futrelle, Mrs. Jacques Heath (Lily May Peel)</td>\n",
       "      <td>female</td>\n",
       "      <td>35.0</td>\n",
       "      <td>1</td>\n",
       "      <td>0</td>\n",
       "      <td>113803</td>\n",
       "      <td>53.1000</td>\n",
       "      <td>S</td>\n",
       "    </tr>\n",
       "    <tr>\n",
       "      <th>4</th>\n",
       "      <td>5</td>\n",
       "      <td>0</td>\n",
       "      <td>3</td>\n",
       "      <td>Allen, Mr. William Henry</td>\n",
       "      <td>male</td>\n",
       "      <td>35.0</td>\n",
       "      <td>0</td>\n",
       "      <td>0</td>\n",
       "      <td>373450</td>\n",
       "      <td>8.0500</td>\n",
       "      <td>S</td>\n",
       "    </tr>\n",
       "    <tr>\n",
       "      <th>...</th>\n",
       "      <td>...</td>\n",
       "      <td>...</td>\n",
       "      <td>...</td>\n",
       "      <td>...</td>\n",
       "      <td>...</td>\n",
       "      <td>...</td>\n",
       "      <td>...</td>\n",
       "      <td>...</td>\n",
       "      <td>...</td>\n",
       "      <td>...</td>\n",
       "      <td>...</td>\n",
       "    </tr>\n",
       "    <tr>\n",
       "      <th>886</th>\n",
       "      <td>887</td>\n",
       "      <td>0</td>\n",
       "      <td>2</td>\n",
       "      <td>Montvila, Rev. Juozas</td>\n",
       "      <td>male</td>\n",
       "      <td>27.0</td>\n",
       "      <td>0</td>\n",
       "      <td>0</td>\n",
       "      <td>211536</td>\n",
       "      <td>13.0000</td>\n",
       "      <td>S</td>\n",
       "    </tr>\n",
       "    <tr>\n",
       "      <th>887</th>\n",
       "      <td>888</td>\n",
       "      <td>1</td>\n",
       "      <td>1</td>\n",
       "      <td>Graham, Miss. Margaret Edith</td>\n",
       "      <td>female</td>\n",
       "      <td>19.0</td>\n",
       "      <td>0</td>\n",
       "      <td>0</td>\n",
       "      <td>112053</td>\n",
       "      <td>30.0000</td>\n",
       "      <td>S</td>\n",
       "    </tr>\n",
       "    <tr>\n",
       "      <th>888</th>\n",
       "      <td>889</td>\n",
       "      <td>0</td>\n",
       "      <td>3</td>\n",
       "      <td>Johnston, Miss. Catherine Helen \"Carrie\"</td>\n",
       "      <td>female</td>\n",
       "      <td>NaN</td>\n",
       "      <td>1</td>\n",
       "      <td>2</td>\n",
       "      <td>W./C. 6607</td>\n",
       "      <td>23.4500</td>\n",
       "      <td>S</td>\n",
       "    </tr>\n",
       "    <tr>\n",
       "      <th>889</th>\n",
       "      <td>890</td>\n",
       "      <td>1</td>\n",
       "      <td>1</td>\n",
       "      <td>Behr, Mr. Karl Howell</td>\n",
       "      <td>male</td>\n",
       "      <td>26.0</td>\n",
       "      <td>0</td>\n",
       "      <td>0</td>\n",
       "      <td>111369</td>\n",
       "      <td>30.0000</td>\n",
       "      <td>C</td>\n",
       "    </tr>\n",
       "    <tr>\n",
       "      <th>890</th>\n",
       "      <td>891</td>\n",
       "      <td>0</td>\n",
       "      <td>3</td>\n",
       "      <td>Dooley, Mr. Patrick</td>\n",
       "      <td>male</td>\n",
       "      <td>32.0</td>\n",
       "      <td>0</td>\n",
       "      <td>0</td>\n",
       "      <td>370376</td>\n",
       "      <td>7.7500</td>\n",
       "      <td>Q</td>\n",
       "    </tr>\n",
       "  </tbody>\n",
       "</table>\n",
       "<p>891 rows × 11 columns</p>\n",
       "</div>"
      ],
      "text/plain": [
       "     PassengerId  Survived  Pclass  \\\n",
       "0              1         0       3   \n",
       "1              2         1       1   \n",
       "2              3         1       3   \n",
       "3              4         1       1   \n",
       "4              5         0       3   \n",
       "..           ...       ...     ...   \n",
       "886          887         0       2   \n",
       "887          888         1       1   \n",
       "888          889         0       3   \n",
       "889          890         1       1   \n",
       "890          891         0       3   \n",
       "\n",
       "                                                  Name     Sex   Age  SibSp  \\\n",
       "0                              Braund, Mr. Owen Harris    male  22.0      1   \n",
       "1    Cumings, Mrs. John Bradley (Florence Briggs Th...  female  38.0      1   \n",
       "2                               Heikkinen, Miss. Laina  female  26.0      0   \n",
       "3         Futrelle, Mrs. Jacques Heath (Lily May Peel)  female  35.0      1   \n",
       "4                             Allen, Mr. William Henry    male  35.0      0   \n",
       "..                                                 ...     ...   ...    ...   \n",
       "886                              Montvila, Rev. Juozas    male  27.0      0   \n",
       "887                       Graham, Miss. Margaret Edith  female  19.0      0   \n",
       "888           Johnston, Miss. Catherine Helen \"Carrie\"  female   NaN      1   \n",
       "889                              Behr, Mr. Karl Howell    male  26.0      0   \n",
       "890                                Dooley, Mr. Patrick    male  32.0      0   \n",
       "\n",
       "     Parch            Ticket     Fare Embarked  \n",
       "0        0         A/5 21171   7.2500        S  \n",
       "1        0          PC 17599  71.2833        C  \n",
       "2        0  STON/O2. 3101282   7.9250        S  \n",
       "3        0            113803  53.1000        S  \n",
       "4        0            373450   8.0500        S  \n",
       "..     ...               ...      ...      ...  \n",
       "886      0            211536  13.0000        S  \n",
       "887      0            112053  30.0000        S  \n",
       "888      2        W./C. 6607  23.4500        S  \n",
       "889      0            111369  30.0000        C  \n",
       "890      0            370376   7.7500        Q  \n",
       "\n",
       "[891 rows x 11 columns]"
      ]
     },
     "execution_count": 6,
     "metadata": {},
     "output_type": "execute_result"
    }
   ],
   "source": [
    "# Vamos usar o dataframe titanic apenas para exemplificar o estudo\n",
    "df = pd.read_csv(\"train.csv\")\n",
    "df = df.drop(df[['Cabin']], axis=1)\n",
    "df"
   ]
  },
  {
   "cell_type": "code",
   "execution_count": 7,
   "id": "87e7ee78",
   "metadata": {},
   "outputs": [
    {
     "data": {
      "text/plain": [
       "PassengerId      0\n",
       "Survived         0\n",
       "Pclass           0\n",
       "Name             0\n",
       "Sex              0\n",
       "Age            177\n",
       "SibSp            0\n",
       "Parch            0\n",
       "Ticket           0\n",
       "Fare             0\n",
       "Embarked         2\n",
       "dtype: int64"
      ]
     },
     "execution_count": 7,
     "metadata": {},
     "output_type": "execute_result"
    }
   ],
   "source": [
    "# se tiver missing values impossivel calcular a média e mediana, vamos elminar?\n",
    "df.isnull().sum()"
   ]
  },
  {
   "cell_type": "code",
   "execution_count": 8,
   "id": "a608a50d",
   "metadata": {},
   "outputs": [
    {
     "data": {
      "text/plain": [
       "PassengerId    0\n",
       "Survived       0\n",
       "Pclass         0\n",
       "Name           0\n",
       "Sex            0\n",
       "Age            0\n",
       "SibSp          0\n",
       "Parch          0\n",
       "Ticket         0\n",
       "Fare           0\n",
       "Embarked       0\n",
       "dtype: int64"
      ]
     },
     "execution_count": 8,
     "metadata": {},
     "output_type": "execute_result"
    }
   ],
   "source": [
    "# eliminando missing values (só teste, por GOD não façam isso)\n",
    "df = df.dropna()\n",
    "df.isnull().sum()"
   ]
  },
  {
   "cell_type": "code",
   "execution_count": 9,
   "id": "55188dc8",
   "metadata": {},
   "outputs": [
    {
     "data": {
      "text/plain": [
       "(712, 11)"
      ]
     },
     "execution_count": 9,
     "metadata": {},
     "output_type": "execute_result"
    }
   ],
   "source": [
    "df.shape"
   ]
  },
  {
   "cell_type": "markdown",
   "id": "0f8cc5cc",
   "metadata": {},
   "source": [
    "# Média"
   ]
  },
  {
   "cell_type": "raw",
   "id": "a04e1bee",
   "metadata": {},
   "source": [
    "A média é a base mais comum para justificar algo, pegamos\n",
    "o número total de observações dividimos pelo total, por exemplo:\n",
    "        \n",
    "        - Saques diário em banco: 10, 20, 15, 35 reais\n",
    "        - Qual a média de saque diário?\n",
    "        - A soma de todos os saques dividido por número de saques:\n",
    "            - 10 + 20 + 15 + 35 / 4 = 20 reais por dia"
   ]
  },
  {
   "cell_type": "code",
   "execution_count": 10,
   "id": "36bca7af",
   "metadata": {},
   "outputs": [
    {
     "name": "stdout",
     "output_type": "stream",
     "text": [
      "Média de idade no Titanic: 29 anos\n",
      "Média de idade no Titanic: 29 anos\n"
     ]
    }
   ],
   "source": [
    "# exemplo média de uma coluna com numpy:\n",
    "media_age = np.mean(df.Age)\n",
    "print(f'Média de idade no Titanic: {int(media_age)} anos')\n",
    "\n",
    "# ou pandas:\n",
    "\n",
    "media_age_pd = df.Age.mean()\n",
    "print(f'Média de idade no Titanic: {int(media_age_pd)} anos')"
   ]
  },
  {
   "cell_type": "markdown",
   "id": "4a178547",
   "metadata": {},
   "source": [
    "# Média ponderada\n",
    "Na média ponderada cada valor é multiplicado por um peso, e sua divisão se da pela soma desses pesos.<br>\n",
    "Supomos notas de avaliacão, 3 notas valendo 10, primeira avaliação tem peso 2, segunda peso 3 e terceira peso 5,\n",
    "vamos calcular a média ponderada:"
   ]
  },
  {
   "cell_type": "code",
   "execution_count": 11,
   "id": "3a9bafab",
   "metadata": {},
   "outputs": [
    {
     "name": "stdout",
     "output_type": "stream",
     "text": [
      "A media ponderada é 8.1\n"
     ]
    }
   ],
   "source": [
    "notas = [7, 9, 8]\n",
    "pesos = [2, 3, 5]\n",
    "# Soma de cada nota multiplicado pelo seu peso\n",
    "nota = (notas[0]*pesos[0]) + (notas[1]*pesos[1]) + (notas[2]*pesos[2])\n",
    "# divide esse resultado pela soma de seus pesos\n",
    "media_ponderada = nota/sum(pesos)\n",
    "\n",
    "print(f'A media ponderada é {media_ponderada}')"
   ]
  },
  {
   "cell_type": "markdown",
   "id": "546baec6",
   "metadata": {},
   "source": [
    "# Mediana"
   ]
  },
  {
   "cell_type": "markdown",
   "id": "a1b76469",
   "metadata": {},
   "source": [
    "Organiza os dados em ordem crescente e 50% dos nossos dados estão abaixo \n",
    "e 50% estão acima da mediana, isso para valores impares, para pares não existe\n",
    "um valor central, então para isso fazemos a média dos 2 valores centrais para achar a mediana. Exemplo de cálculo da mediana:"
   ]
  },
  {
   "cell_type": "code",
   "execution_count": 12,
   "id": "5df262f4",
   "metadata": {},
   "outputs": [
    {
     "name": "stdout",
     "output_type": "stream",
     "text": [
      "Mediana de idade no Titanic: 28.0 anos\n",
      "Médiana de idade no Titanic: 28.0 anos\n"
     ]
    }
   ],
   "source": [
    "# exemplo mediana de uma coluna com numpy:\n",
    "mediana_age = np.median(df.Age)\n",
    "print(f'Mediana de idade no Titanic: {mediana_age} anos')\n",
    "\n",
    "# ou pandas:\n",
    "\n",
    "mediana_age_pd = df.Age.median()\n",
    "print(f'Médiana de idade no Titanic: {mediana_age_pd} anos')"
   ]
  },
  {
   "cell_type": "markdown",
   "id": "daa771b1",
   "metadata": {},
   "source": [
    "# Moda"
   ]
  },
  {
   "cell_type": "markdown",
   "id": "a847f0f1",
   "metadata": {},
   "source": [
    "Moda é o número que aparece mais vezes em um conjunto. Se somente um numero aparece mais vezes então dizemos que e um conjunto unimodal.\n",
    "\n",
    "Existe outro numero que aparece mesma quantidade de vezes? se sim então é um conjunto bimodal\n",
    "\n",
    "Nenhum numero aparece mais que os outros então é um conjunto sem moda."
   ]
  },
  {
   "cell_type": "code",
   "execution_count": 13,
   "id": "b4fce866",
   "metadata": {},
   "outputs": [
    {
     "data": {
      "text/plain": [
       "24.00    30\n",
       "22.00    27\n",
       "18.00    26\n",
       "19.00    25\n",
       "28.00    25\n",
       "         ..\n",
       "36.50     1\n",
       "55.50     1\n",
       "0.92      1\n",
       "23.50     1\n",
       "74.00     1\n",
       "Name: Age, Length: 88, dtype: int64"
      ]
     },
     "execution_count": 13,
     "metadata": {},
     "output_type": "execute_result"
    }
   ],
   "source": [
    "# value_ counts mostra quantas vezes cada valor se repete\n",
    "# note que temos 11 pessoas com 36 anos, essa será a moda.\n",
    "df.Age.value_counts()"
   ]
  },
  {
   "cell_type": "code",
   "execution_count": 14,
   "id": "42fbdddc",
   "metadata": {},
   "outputs": [
    {
     "name": "stdout",
     "output_type": "stream",
     "text": [
      "No titanic, a maioria das pessoas tem 24.0 anos\n"
     ]
    }
   ],
   "source": [
    "# calculando a moda com biblioteca statistics\n",
    "import statistics\n",
    "moda = statistics.mode(df.Age)\n",
    "print(f'No titanic, a maioria das pessoas tem {moda} anos')"
   ]
  },
  {
   "cell_type": "code",
   "execution_count": 15,
   "id": "0cf5166a",
   "metadata": {},
   "outputs": [
    {
     "name": "stdout",
     "output_type": "stream",
     "text": [
      "No titanic, a maioria das pessoas são do sexo masculino\n"
     ]
    }
   ],
   "source": [
    "# moda tbm pode ser calculada pra variáveis categoricas, por exemplo:\n",
    "# Existem mais homens ou mulheres no titanic?\n",
    "sexo = statistics.mode(df.Sex)\n",
    "\n",
    "# Trocando male por masculino e female por feminino\n",
    "if sexo =='male':\n",
    "    sexo = \"masculino\"\n",
    "else:\n",
    "    sexo = \"feminino\"\n",
    "    \n",
    "print(f'No titanic, a maioria das pessoas são do sexo {sexo}')"
   ]
  },
  {
   "cell_type": "markdown",
   "id": "fecc7632",
   "metadata": {},
   "source": [
    "# Função Limites (Quartis)\n",
    "Medidas separatrizes"
   ]
  },
  {
   "cell_type": "code",
   "execution_count": 16,
   "id": "e3918a99",
   "metadata": {},
   "outputs": [],
   "source": [
    "''' Função para detectar outliers usando as regras do quartis\n",
    "    Consiste dividir nossos dados em quantis 25% e 75% (Q1 e Q3)\n",
    "    a amplitude ou variação interquartil (IQR)é a diferença entre Q3 e Q1\n",
    "    assim definimos os limites inferior = Q1 - 1,5 * IQR\n",
    "    e os limites superiores que são     = Q3 + 1.5 * IQR\n",
    "    Tudo que está abaixo ou acima dos limites são considerados outliers\n",
    "'''\n",
    "def limites(coluna):\n",
    "    q1 = coluna.quantile(0.25) #pega primeiro quartil em 25%\n",
    "    q3 = coluna.quantile(0.75) #pega terveiro quartil em 75%\n",
    "    amplitude = q3 - q1\n",
    "    lim_inferior = q1 - 1.5 * amplitude\n",
    "    lim_superior = q3 + 1.5 * amplitude\n",
    "    return lim_inferior, lim_superior"
   ]
  },
  {
   "cell_type": "markdown",
   "id": "91b74807",
   "metadata": {},
   "source": [
    "# Função de remoção de outliers"
   ]
  },
  {
   "cell_type": "code",
   "execution_count": 17,
   "id": "aefaf7b4",
   "metadata": {},
   "outputs": [],
   "source": [
    "# Função que irá remover os limites superior e inferior:\n",
    "def excluir_outliers(df, nome_coluna):\n",
    "    # pega as qnt de linhas do df (0 = linhas e 1 = colunas)\n",
    "    qnt_linhas = df.shape[0] \n",
    "    \n",
    "    # pega os limites\n",
    "    lim_inf, lim_sup = limites(df[nome_coluna])\n",
    "    \n",
    "    # filtra no df somente valores (lim inf <= DF <= lim sup)\n",
    "    df = df.loc[(df[nome_coluna] >= lim_inf) & (df[nome_coluna] <= lim_sup) , :]\n",
    "    \n",
    "    # pega qnt de linhas removidas\n",
    "    linhas_removidas = qnt_linhas - df.shape[0]\n",
    "    \n",
    "    # retorna DF filtrado e nº de linhas removidas\n",
    "    return df, linhas_removidas"
   ]
  },
  {
   "cell_type": "markdown",
   "id": "dd6739b9",
   "metadata": {},
   "source": [
    "# Funções Gráficas"
   ]
  },
  {
   "cell_type": "code",
   "execution_count": 18,
   "id": "923b9639",
   "metadata": {},
   "outputs": [],
   "source": [
    "import matplotlib.pyplot as plt\n",
    "import seaborn as sns\n",
    "\n",
    "def diagrama_caixa(coluna):\n",
    "    # define um grafico do lado do outro 1 linha 2 colunas(plt do matplotlib)\n",
    "    # ax1 = eixo do 1º grafico e ax2 do segundo.\n",
    "    fig, (ax1, ax2) = plt.subplots(1, 2) \n",
    "    \n",
    "    # seta tamanho do grafico\n",
    "    fig.set_size_inches(15,5) \n",
    "    \n",
    "    # cria grafico automático com os valores da coluna recebida\n",
    "    sns.boxplot(x=coluna, ax = ax1)\n",
    "    \n",
    "    # cria grafico automático com os valores da coluna recebida\n",
    "    # com a diferença que ax2 vai ficar entre os limites inferior e superior\n",
    "    # então chamamos a função \"limites\"\n",
    "    ax2.set_xlim(limites(coluna))\n",
    "    sns.boxplot(x=coluna, ax = ax2)"
   ]
  },
  {
   "cell_type": "code",
   "execution_count": 19,
   "id": "b0ffab68",
   "metadata": {},
   "outputs": [],
   "source": [
    "def histograma(coluna):\n",
    "    plt.figure(figsize=(15,5))\n",
    "    #sns.distplot(coluna, hist=True)\n",
    "    sns.histplot(coluna, kde=True)"
   ]
  },
  {
   "cell_type": "markdown",
   "id": "9d0da12b",
   "metadata": {},
   "source": [
    "# Detectando outliers com a média"
   ]
  },
  {
   "cell_type": "code",
   "execution_count": 40,
   "id": "ed87b2ec",
   "metadata": {},
   "outputs": [
    {
     "data": {
      "text/html": [
       "<div>\n",
       "<style scoped>\n",
       "    .dataframe tbody tr th:only-of-type {\n",
       "        vertical-align: middle;\n",
       "    }\n",
       "\n",
       "    .dataframe tbody tr th {\n",
       "        vertical-align: top;\n",
       "    }\n",
       "\n",
       "    .dataframe thead th {\n",
       "        text-align: right;\n",
       "    }\n",
       "</style>\n",
       "<table border=\"1\" class=\"dataframe\">\n",
       "  <thead>\n",
       "    <tr style=\"text-align: right;\">\n",
       "      <th></th>\n",
       "      <th>PassengerId</th>\n",
       "      <th>Survived</th>\n",
       "      <th>Pclass</th>\n",
       "      <th>Name</th>\n",
       "      <th>Sex</th>\n",
       "      <th>Age</th>\n",
       "      <th>SibSp</th>\n",
       "      <th>Parch</th>\n",
       "      <th>Ticket</th>\n",
       "      <th>Fare</th>\n",
       "      <th>Embarked</th>\n",
       "    </tr>\n",
       "  </thead>\n",
       "  <tbody>\n",
       "    <tr>\n",
       "      <th>0</th>\n",
       "      <td>1</td>\n",
       "      <td>0</td>\n",
       "      <td>3</td>\n",
       "      <td>Braund, Mr. Owen Harris</td>\n",
       "      <td>male</td>\n",
       "      <td>22.0</td>\n",
       "      <td>1</td>\n",
       "      <td>0</td>\n",
       "      <td>A/5 21171</td>\n",
       "      <td>7.2500</td>\n",
       "      <td>S</td>\n",
       "    </tr>\n",
       "    <tr>\n",
       "      <th>1</th>\n",
       "      <td>2</td>\n",
       "      <td>1</td>\n",
       "      <td>1</td>\n",
       "      <td>Cumings, Mrs. John Bradley (Florence Briggs Th...</td>\n",
       "      <td>female</td>\n",
       "      <td>80000.0</td>\n",
       "      <td>1</td>\n",
       "      <td>0</td>\n",
       "      <td>PC 17599</td>\n",
       "      <td>71.2833</td>\n",
       "      <td>C</td>\n",
       "    </tr>\n",
       "  </tbody>\n",
       "</table>\n",
       "</div>"
      ],
      "text/plain": [
       "   PassengerId  Survived  Pclass  \\\n",
       "0            1         0       3   \n",
       "1            2         1       1   \n",
       "\n",
       "                                                Name     Sex      Age  SibSp  \\\n",
       "0                            Braund, Mr. Owen Harris    male     22.0      1   \n",
       "1  Cumings, Mrs. John Bradley (Florence Briggs Th...  female  80000.0      1   \n",
       "\n",
       "   Parch     Ticket     Fare Embarked  \n",
       "0      0  A/5 21171   7.2500        S  \n",
       "1      0   PC 17599  71.2833        C  "
      ]
     },
     "execution_count": 40,
     "metadata": {},
     "output_type": "execute_result"
    }
   ],
   "source": [
    "# Simulando erro de digitação, acrescentando uma pessoa com 80 mil anos\n",
    "\n",
    "df1 = df.copy()\n",
    "df1.loc[1, \"Age\"] = 80000\n",
    "df1.head(2)"
   ]
  },
  {
   "cell_type": "code",
   "execution_count": 49,
   "id": "4f1e6097",
   "metadata": {},
   "outputs": [
    {
     "name": "stdout",
     "output_type": "stream",
     "text": [
      "A maioria das pessoas tem 28.0 anos\n",
      "A média de idade é de 142 anos\n"
     ]
    }
   ],
   "source": [
    "# Note que a média de idade subiu para 141 anos (outlier)\n",
    "\n",
    "mediana = df1.Age.median()\n",
    "\n",
    "print(f'A maioria das pessoas tem {df1.Age.median()} anos')\n",
    "print(f'A média de idade é de {df1.Age.mean():.0f} anos')"
   ]
  },
  {
   "cell_type": "code",
   "execution_count": 22,
   "id": "c128f091",
   "metadata": {
    "scrolled": true
   },
   "outputs": [
    {
     "data": {
      "image/png": "[encoded data removed]",
      "text/plain": [
       "<Figure size 1080x360 with 2 Axes>"
      ]
     },
     "metadata": {
      "needs_background": "light"
     },
     "output_type": "display_data"
    }
   ],
   "source": [
    "diagrama_caixa(df1.Age)"
   ]
  },
  {
   "cell_type": "code",
   "execution_count": 23,
   "id": "524c7ae8",
   "metadata": {},
   "outputs": [
    {
     "data": {
      "image/png": "[encoded data removed]",
      "text/plain": [
       "<Figure size 1080x360 with 1 Axes>"
      ]
     },
     "metadata": {
      "needs_background": "light"
     },
     "output_type": "display_data"
    }
   ],
   "source": [
    "# histograma abaixo esta simetrico pois não há outliers\n",
    "histograma(df.Age)"
   ]
  },
  {
   "cell_type": "code",
   "execution_count": 42,
   "id": "62f2b6ac",
   "metadata": {},
   "outputs": [
    {
     "data": {
      "image/png": "[encoded data removed]",
      "text/plain": [
       "<Figure size 1080x360 with 1 Axes>"
      ]
     },
     "metadata": {
      "needs_background": "light"
     },
     "output_type": "display_data"
    }
   ],
   "source": [
    "#histograma assimetrico deslocado a esquerda pois há outliers\n",
    "histograma(df1.Age)"
   ]
  },
  {
   "cell_type": "markdown",
   "id": "16f35aa7",
   "metadata": {},
   "source": [
    "# Quantil\n",
    "Quantil ou percentis, é a função que divide os dados em partes, um quantil 0.5 divide os dados em 50% abaixo e 50% acima, e um quantil 0.5 é justamente a mediana. Função numpy é NP.QUNATIL().\n",
    "\n",
    "O quartil é um dos quantil mais usado na estatística (entre outros) e podemos usar a regra dos quartis para detectar outliers em conjunto de dados. Em suma, a regra dos quartis divide nosso conjunto de dados em 4 partes sendo elas Q1 = 25%, Q2 = 50% e Q3 = 75%"
   ]
  },
  {
   "cell_type": "code",
   "execution_count": 25,
   "id": "69db2b38",
   "metadata": {},
   "outputs": [
    {
     "data": {
      "text/plain": [
       "28.0"
      ]
     },
     "execution_count": 25,
     "metadata": {},
     "output_type": "execute_result"
    }
   ],
   "source": [
    "# Calculando quantil 0.5\n",
    "np.quantile(df.Age, 0.5)"
   ]
  },
  {
   "cell_type": "code",
   "execution_count": 26,
   "id": "626b7428",
   "metadata": {},
   "outputs": [
    {
     "data": {
      "text/plain": [
       "array([ 0.42, 20.  , 28.  , 38.  , 80.  ])"
      ]
     },
     "execution_count": 26,
     "metadata": {},
     "output_type": "execute_result"
    }
   ],
   "source": [
    "# pegando conjunto de quantis\n",
    "np.quantile(df.Age, [0, 0.25, 0.50, 0.75, 1])"
   ]
  },
  {
   "cell_type": "code",
   "execution_count": 27,
   "id": "151d7c94",
   "metadata": {},
   "outputs": [
    {
     "data": {
      "text/plain": [
       "array([ 0.42, 20.  , 28.  , 38.  , 80.  ])"
      ]
     },
     "execution_count": 27,
     "metadata": {},
     "output_type": "execute_result"
    }
   ],
   "source": [
    "# podemos usar tbm np.linspace (inicio, fim, qnt de quantis)\n",
    "np.quantile(df.Age, np.linspace(0, 1 , 5))"
   ]
  },
  {
   "cell_type": "markdown",
   "id": "8ec8d115",
   "metadata": {},
   "source": [
    "Com base nos quantis, podemos afirmar que:\n",
    "\n",
    "    - 25% estão abaixo de 20 anos\n",
    "    - 50% abaixo de 28 anos\n",
    "    - 75% abaixo de 38 ou 25% acima de 38 anos\n",
    "    - 100% das pessoas tem de 80 anos abaixo."
   ]
  },
  {
   "cell_type": "code",
   "execution_count": 28,
   "id": "0a312b86",
   "metadata": {},
   "outputs": [
    {
     "data": {
      "text/plain": [
       "(0.42, 80.0)"
      ]
     },
     "execution_count": 28,
     "metadata": {},
     "output_type": "execute_result"
    }
   ],
   "source": [
    "# para confirmar veremos as idades máxima e minima da tabela.\n",
    "df.Age.min(), df.Age.max()"
   ]
  },
  {
   "cell_type": "code",
   "execution_count": 29,
   "id": "ab810e69",
   "metadata": {},
   "outputs": [
    {
     "data": {
      "image/png": "[encoded data removed]",
      "text/plain": [
       "<Figure size 1080x360 with 1 Axes>"
      ]
     },
     "metadata": {
      "needs_background": "light"
     },
     "output_type": "display_data"
    }
   ],
   "source": [
    "# boxplot\n",
    "df.boxplot(['Age'], vert=False, figsize=(15, 5))\n",
    "plt.show()"
   ]
  },
  {
   "cell_type": "markdown",
   "id": "0dd7d14e",
   "metadata": {},
   "source": [
    "# Medidas de dispersão\n",
    "São medidas de espalhamento dos dados, ou seja, o quanto os dados estão espalhados em relação a média. A medida de dispersão pode ser calculada usando alguns métodos:\n",
    "\n",
    "- Variância amostral: quando se calcula apenas uma amostra da população, nesse caso a divisão é feita por (n - 1) onde n é o numero de amostras.\n",
    "- Variância populacional quando se calcula o todo da população a ser medida.\n",
    "- Desvio Médio: É a raiz da variância, que nos dá um valor de ajuste de +- a variância.\n",
    "- Desvio médio absoluto: "
   ]
  },
  {
   "cell_type": "code",
   "execution_count": 30,
   "id": "b803aeec",
   "metadata": {},
   "outputs": [
    {
     "data": {
      "text/html": [
       "<div>\n",
       "<style scoped>\n",
       "    .dataframe tbody tr th:only-of-type {\n",
       "        vertical-align: middle;\n",
       "    }\n",
       "\n",
       "    .dataframe tbody tr th {\n",
       "        vertical-align: top;\n",
       "    }\n",
       "\n",
       "    .dataframe thead th {\n",
       "        text-align: right;\n",
       "    }\n",
       "</style>\n",
       "<table border=\"1\" class=\"dataframe\">\n",
       "  <thead>\n",
       "    <tr style=\"text-align: right;\">\n",
       "      <th></th>\n",
       "      <th>Func A</th>\n",
       "      <th>Func B</th>\n",
       "      <th>Func C</th>\n",
       "      <th>Func D</th>\n",
       "      <th>Func E</th>\n",
       "    </tr>\n",
       "  </thead>\n",
       "  <tbody>\n",
       "    <tr>\n",
       "      <th>0</th>\n",
       "      <td>7</td>\n",
       "      <td>6</td>\n",
       "      <td>17</td>\n",
       "      <td>12</td>\n",
       "      <td>7</td>\n",
       "    </tr>\n",
       "    <tr>\n",
       "      <th>1</th>\n",
       "      <td>4</td>\n",
       "      <td>14</td>\n",
       "      <td>3</td>\n",
       "      <td>11</td>\n",
       "      <td>5</td>\n",
       "    </tr>\n",
       "    <tr>\n",
       "      <th>2</th>\n",
       "      <td>9</td>\n",
       "      <td>17</td>\n",
       "      <td>8</td>\n",
       "      <td>9</td>\n",
       "      <td>14</td>\n",
       "    </tr>\n",
       "    <tr>\n",
       "      <th>3</th>\n",
       "      <td>11</td>\n",
       "      <td>16</td>\n",
       "      <td>6</td>\n",
       "      <td>10</td>\n",
       "      <td>18</td>\n",
       "    </tr>\n",
       "    <tr>\n",
       "      <th>4</th>\n",
       "      <td>5</td>\n",
       "      <td>15</td>\n",
       "      <td>14</td>\n",
       "      <td>12</td>\n",
       "      <td>19</td>\n",
       "    </tr>\n",
       "  </tbody>\n",
       "</table>\n",
       "</div>"
      ],
      "text/plain": [
       "   Func A  Func B  Func C  Func D  Func E\n",
       "0       7       6      17      12       7\n",
       "1       4      14       3      11       5\n",
       "2       9      17       8       9      14\n",
       "3      11      16       6      10      18\n",
       "4       5      15      14      12      19"
      ]
     },
     "execution_count": 30,
     "metadata": {},
     "output_type": "execute_result"
    }
   ],
   "source": [
    "# Tenho uma tabela de produção de funcionários ao longo de 5 dias\n",
    "df_prod = pd.read_csv('producao.csv', sep=';')\n",
    "df_prod"
   ]
  },
  {
   "cell_type": "markdown",
   "id": "edba8dd8",
   "metadata": {},
   "source": [
    "#### Calculando na unha (sem auxilio do np)"
   ]
  },
  {
   "cell_type": "code",
   "execution_count": 31,
   "id": "b8cabe04",
   "metadata": {},
   "outputs": [
    {
     "name": "stdout",
     "output_type": "stream",
     "text": [
      "Desvio = 8.881784197001252e-16\n",
      "Variância = 6.5600000000000005\n",
      "Desvio padrão = 2.5612496949731396\n",
      "Desvio padrão médio = 1.7763568394002506e-16\n"
     ]
    }
   ],
   "source": [
    "#OBS abs() = módulo do valor\n",
    "\n",
    "desvio = abs((7-7.2)+(4-7.2)+(9-7.2)+ (11-7.2)+ (5-7.2))\n",
    "variancia = abs((7-7.2)**2 +(4-7.2)**2 +(9-7.2)**2 + (11-7.2)**2 + (5-7.2)**2)/5\n",
    "desvio_padrão = np.sqrt(variancia) #raiz da variancia\n",
    "desvio_padrão_medio = desvio/5\n",
    "\n",
    "print(f\"Desvio = {desvio}\")\n",
    "print(f\"Variância = {variancia}\")\n",
    "print(f\"Desvio padrão = {desvio_padrão}\")\n",
    "print(f\"Desvio padrão médio = {desvio_padrão_medio}\")"
   ]
  },
  {
   "cell_type": "markdown",
   "id": "d8e4df9a",
   "metadata": {},
   "source": [
    "### Média "
   ]
  },
  {
   "cell_type": "code",
   "execution_count": 32,
   "id": "5bf01453",
   "metadata": {},
   "outputs": [
    {
     "name": "stdout",
     "output_type": "stream",
     "text": [
      "[7.2, 13.6, 9.6, 10.8, 12.6]\n"
     ]
    }
   ],
   "source": [
    "# calculando a média para cada funcionário e colocando numa lista:\n",
    "lista_media = []\n",
    "\n",
    "for func in df_prod.columns:\n",
    "    media = df_prod[func].mean()\n",
    "    lista_media.append(media) \n",
    "print(lista_media)"
   ]
  },
  {
   "cell_type": "markdown",
   "id": "d510214d",
   "metadata": {},
   "source": [
    "#### Com base na tabela vamos calcular as variâncias para responder:\n",
    "Qual funcionário mantém o padrão de produtividade?<br>\n",
    "Qual funcionário produz de forma desigual?"
   ]
  },
  {
   "cell_type": "markdown",
   "id": "38cef5f4",
   "metadata": {},
   "source": [
    "## Variância populacional\n",
    "Variância é quão os dados estão distantes da média (módulo - valores positivos). por exemplo, numa fábrica, a variancia mede a taxa de variação da produção de cada funcionário em relação a si mesmo, pois nem todos produzem a mesma quantidade todos os dias. Quanto menor a variância mais próximo da média esse funcionário produz.\n",
    "\n",
    "- Para cálculo da variância usamos np.var()\n",
    "- Onde o parâmetro ddof:\n",
    "    - Zero (0) para variancia populacional\n",
    "    - Um (1) para variância amostral\n",
    "\n",
    "Então quando fazemos o cálculo da variância amostral, devemos definir ddof=1."
   ]
  },
  {
   "cell_type": "code",
   "execution_count": 33,
   "id": "dea4ff2d",
   "metadata": {},
   "outputs": [
    {
     "data": {
      "text/plain": [
       "[6.5600000000000005, 15.440000000000003, 26.639999999999997, 1.36, 32.24]"
      ]
     },
     "metadata": {},
     "output_type": "display_data"
    }
   ],
   "source": [
    "# calculando a variância para cada funcionário e colocando numa lista:\n",
    "lista_variancia = []\n",
    "\n",
    "for func in df_prod.columns:\n",
    "    var = np.var(df_prod[func], ddof=0)\n",
    "    lista_variancia.append(var)\n",
    "\n",
    "display(lista_variancia)"
   ]
  },
  {
   "cell_type": "markdown",
   "id": "aff2f30c",
   "metadata": {},
   "source": [
    "Sabendo-se que, quanto maior for a variância, mais dispersos estão em relação a média, e quanto menor for a variância, mais homogênios estarão em relação a média.\n",
    "\n",
    "Então podemos responder que o FUNCIONÁRIO D mantém o padrão de produtividade, e o FUNCIONÁRIO C produz de forma desigual."
   ]
  },
  {
   "cell_type": "markdown",
   "id": "3cbf5b7e",
   "metadata": {},
   "source": [
    "# Desvio padrão\n",
    "Os dados de variância são muito sensíveis a outliers (valores fora do padrão), e além de serem elevados ao quadrado podem camuflar sua interpretação, uma alternativa para isso é usar outra medida de dispersão, o desvio padrão.\n",
    "\n",
    "Desvio padrão nada mais é do que um ajuste de mais ou menos a raiz quadrada da variância."
   ]
  },
  {
   "cell_type": "code",
   "execution_count": 34,
   "id": "a5e9d47a",
   "metadata": {},
   "outputs": [
    {
     "data": {
      "text/plain": [
       "[2.5612496949731396,\n",
       " 3.9293765408777004,\n",
       " 5.161395160225576,\n",
       " 1.1661903789690602,\n",
       " 5.678027826631356]"
      ]
     },
     "metadata": {},
     "output_type": "display_data"
    }
   ],
   "source": [
    "lista_DP = []\n",
    "\n",
    "for valor in lista_variancia:\n",
    "    DP = np.sqrt(valor)\n",
    "    lista_DP.append(DP)\n",
    "\n",
    "display(lista_DP)"
   ]
  },
  {
   "cell_type": "markdown",
   "id": "b5341e82",
   "metadata": {},
   "source": [
    "#### Com base no desvio padrão podemos responder:\n",
    "    - Qual a produtividade diária do funcionário A?"
   ]
  },
  {
   "cell_type": "code",
   "execution_count": 35,
   "id": "532d841a",
   "metadata": {},
   "outputs": [
    {
     "name": "stdout",
     "output_type": "stream",
     "text": [
      "O funcionário A produz 7.2 +- 2.5612496949731396 por dia!\n",
      "Em torno de 4.6 a 9.76124969497314 peças por dia!\n"
     ]
    }
   ],
   "source": [
    "print(f'O funcionário A produz {lista_media[0]} +- {lista_DP[0]} por dia!')\n",
    "print(f'Em torno de {(lista_media[0] - lista_DP[0]):,.1f} a {lista_media[0] + lista_DP[0]} peças por dia!')\n"
   ]
  },
  {
   "cell_type": "markdown",
   "id": "26516625",
   "metadata": {},
   "source": [
    "# Desvio médio absoluto\n",
    "Desvio médio absoluto é a média dos desvios, e se aproxima muito do desvio padrão, porém por não ser elevado ao quadrado como desvio padrão ele está menos propenso a sofrer com outliers."
   ]
  },
  {
   "cell_type": "code",
   "execution_count": 36,
   "id": "76539b84",
   "metadata": {},
   "outputs": [
    {
     "name": "stdout",
     "output_type": "stream",
     "text": [
      "1.7763568394002506e-16\n"
     ]
    }
   ],
   "source": [
    "desvios = df_prod['Func A'] - np.mean(df_prod['Func A'])\n",
    "DMA = np.mean(desvios)\n",
    "print(abs(DMA))"
   ]
  },
  {
   "cell_type": "markdown",
   "id": "d53f2a77",
   "metadata": {},
   "source": [
    "# Resposta da pergunta para depois!"
   ]
  },
  {
   "cell_type": "code",
   "execution_count": 37,
   "id": "295ed50e",
   "metadata": {},
   "outputs": [
    {
     "data": {
      "text/plain": [
       "(29.64209269662921, 28.0, 170.03816011235955, 28.0)"
      ]
     },
     "execution_count": 37,
     "metadata": {},
     "output_type": "execute_result"
    }
   ],
   "source": [
    "#df1 tem um outlier na idade de 100.000 anosw\n",
    "df.Age.mean(), df.Age.median(), df1.Age.mean(), df1.Age.median()"
   ]
  },
  {
   "cell_type": "code",
   "execution_count": null,
   "id": "86e8070d",
   "metadata": {},
   "outputs": [],
   "source": []
  }
 ],
 "metadata": {
  "kernelspec": {
   "display_name": "Python 3 (ipykernel)",
   "language": "python",
   "name": "python3"
  },
  "language_info": {
   "codemirror_mode": {
    "name": "ipython",
    "version": 3
   },
   "file_extension": ".py",
   "mimetype": "text/x-python",
   "name": "python",
   "nbconvert_exporter": "python",
   "pygments_lexer": "ipython3",
   "version": "3.9.12"
  }
 },
 "nbformat": 4,
 "nbformat_minor": 5
}
